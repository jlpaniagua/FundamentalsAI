{
  "nbformat": 4,
  "nbformat_minor": 0,
  "metadata": {
    "colab": {
      "name": "IntroKeras.ipynb",
      "provenance": [],
      "toc_visible": true,
      "authorship_tag": "ABX9TyNMpB9XP0DPVCWV+oDqejZm",
      "include_colab_link": true
    },
    "kernelspec": {
      "name": "python3",
      "display_name": "Python 3"
    }
  },
  "cells": [
    {
      "cell_type": "markdown",
      "metadata": {
        "id": "view-in-github",
        "colab_type": "text"
      },
      "source": [
        "<a href=\"https://colab.research.google.com/github/jlpaniagua/FundamentalsAI/blob/master/IntroKerasMnist.ipynb\" target=\"_parent\"><img src=\"https://colab.research.google.com/assets/colab-badge.svg\" alt=\"Open In Colab\"/></a>"
      ]
    },
    {
      "cell_type": "markdown",
      "metadata": {
        "id": "4y7oMe1RN9r5",
        "colab_type": "text"
      },
      "source": [
        "##**Introduccion a Keras**##"
      ]
    },
    {
      "cell_type": "markdown",
      "metadata": {
        "id": "s_Re7MuCIXu7",
        "colab_type": "text"
      },
      "source": [
        "![alt text](https://miro.medium.com/max/600/0*LZQf7b4u8f97izwV.png)"
      ]
    },
    {
      "cell_type": "markdown",
      "metadata": {
        "id": "c8NXQ8tKIfls",
        "colab_type": "text"
      },
      "source": [
        "Keras es un framework de aprendizaje profundo para Python que proporciona una forma conveniente de definir y entrenar casi cualquier tipo de modelo de aprendizaje profundo. Keras es una API de redes neuronales de alto nivel, escrita en Python que es capaz de ejecutarse sobre Tensorflow, Theano y CNTK. Fue desarrollado para permitir la experimentación rápida.\n",
        "\n",
        "Keras es compatible con versiones de Python desde 2.x a 3.x hasta la fecha.\n",
        "\n",
        "Keras es utilizado por alrededor de 200,000 usuarios, desde investigadores académicos e ingenieros en empresas nuevas y grandes, hasta estudiantes graduados y aficionados. Keras se utiliza en Google, Netflix, Uber, Microsoft, Square y muchas empresas nuevas que trabajan con gran variedad de problemas de aprendizaje automático.\n",
        "\n",
        "![alt text](https://miro.medium.com/max/407/1*YFYQs2NBiUid4NH22LgJQA.png)\n",
        "\n",
        "\n",
        "* Keras no maneja operaciones de bajo nivel como manipulaciones y diferenciación de tensores. \n",
        "\n",
        "* Se basa en una biblioteca de tensor especializada y bien optimizada, que sirve como motor de back-end de Keras. \n",
        "\n",
        "* Actualmente existen tres implementaciones de back-end, el backend Tensorflow, el backend Theano y el backend de Microsoft Cognitive Toolkit (CNTK).\n",
        "\n",
        "![alt text](https://miro.medium.com/max/231/1*t_xCCZb4XCzzDn9LSeOQpw.png)\n",
        "\n",
        "**Workflow en Keras:**\n",
        "\n",
        "\n",
        "\n",
        "* Definir los datos de entrenamiento: tensor de entrada y tensor de salida (objetivo).\n",
        "*  Definir la red (o modelo).\n",
        "* Configurar el proceso de aprendizaje eligiendo una función de pérdida, un optimizador y algunas métricas para monitorear.\n",
        "* Realizar el entrenamiento llamando al método fit () de su modelo.\n",
        "\n",
        "\n",
        "\n"
      ]
    },
    {
      "cell_type": "markdown",
      "metadata": {
        "id": "UetpKUCQIoHh",
        "colab_type": "text"
      },
      "source": [
        "##**Formas de Definir un modelo en Keras**##\n",
        "\n",
        "* **Sequential Class:** Linear Stack of layers"
      ]
    },
    {
      "cell_type": "code",
      "metadata": {
        "id": "uTmBEm_XVlIl",
        "colab_type": "code",
        "colab": {}
      },
      "source": [
        "from keras import models\n",
        "from keras import layers\n",
        "from keras import optimizers\n",
        "import numpy as np\n",
        "\n",
        "#install TensorFlow 2.0 \n",
        "#!pip install tensorflow==2.0.0-alpha0"
      ],
      "execution_count": 0,
      "outputs": []
    },
    {
      "cell_type": "code",
      "metadata": {
        "id": "9zLRe_STOSRA",
        "colab_type": "code",
        "colab": {}
      },
      "source": [
        "# training data\n",
        "x_train = np.array([[0, 0], [0, 1],[1,0],[1,1]])\n",
        "y_train = np.array([[0],[0],[0],[1]])\n",
        "\n",
        "model = models.Sequential()\n",
        "model.add(layers.Dense(10, activation='tanh', input_shape=(2,)))\n",
        "model.add(layers.Dense(1, activation='sigmoid'))\n",
        "\n",
        "model.summary()\n",
        "\n",
        "model.compile(optimizer=optimizers.RMSprop(lr=0.001),loss='mse',metrics=['accuracy'])\n",
        "\n",
        "model.fit(x_train, y_train, epochs=5)\n",
        "\n",
        "\n"
      ],
      "execution_count": 0,
      "outputs": []
    },
    {
      "cell_type": "markdown",
      "metadata": {
        "id": "Hp-gF_CYRvme",
        "colab_type": "text"
      },
      "source": [
        "* **Functional API:** Directed acyclic graphs of layers"
      ]
    },
    {
      "cell_type": "code",
      "metadata": {
        "id": "KXbVZV2zSKcz",
        "colab_type": "code",
        "colab": {}
      },
      "source": [
        "input_tensor = layers.Input(shape=(2,))\n",
        "x = layers.Dense(10, activation='tanh')(input_tensor)\n",
        "output_tensor = layers.Dense(1, activation='sigmoid')(x)\n",
        "model = models.Model(inputs=input_tensor, outputs=output_tensor)\n",
        "\n",
        "model.summary()\n",
        "\n",
        "model.compile(optimizer=optimizers.RMSprop(lr=0.001),loss='mse',metrics=['accuracy'])\n",
        "\n",
        "model.fit(x_train, y_train, epochs=1000)\n",
        "\n",
        "output=model.predict(x_train)\n",
        "print(output)"
      ],
      "execution_count": 0,
      "outputs": []
    },
    {
      "cell_type": "markdown",
      "metadata": {
        "id": "c0JBfeQuW1N6",
        "colab_type": "text"
      },
      "source": [
        "## **Clasificacion de Imagenes en Keras** ## "
      ]
    },
    {
      "cell_type": "markdown",
      "metadata": {
        "id": "Ewln4oB2Xagy",
        "colab_type": "text"
      },
      "source": [
        "Librerias Necesarias"
      ]
    },
    {
      "cell_type": "code",
      "metadata": {
        "id": "ovn5sqnuTm_Y",
        "colab_type": "code",
        "colab": {
          "base_uri": "https://localhost:8080/",
          "height": 35
        },
        "outputId": "fe6eb65a-bb4f-46ef-83f7-2de90fb7305e"
      },
      "source": [
        "\n",
        "import numpy as np                   # advanced math library\n",
        "import matplotlib.pyplot as plt      # MATLAB like plotting routines\n",
        "import random                        # for generating random numbers\n",
        "\n",
        "from keras.datasets import mnist     # MNIST dataset is included in Keras\n",
        "from keras.models import Sequential  # Model type to be used\n",
        "\n",
        "from keras.layers.core import Dense, Dropout, Activation # Types of layers to be used in our model\n",
        "from keras.utils import np_utils                         # NumPy related tools"
      ],
      "execution_count": 1,
      "outputs": [
        {
          "output_type": "stream",
          "text": [
            "Using TensorFlow backend.\n"
          ],
          "name": "stderr"
        }
      ]
    },
    {
      "cell_type": "markdown",
      "metadata": {
        "id": "vdjr6eDXXiTL",
        "colab_type": "text"
      },
      "source": [
        "Cargar datos de entrenamiento"
      ]
    },
    {
      "cell_type": "code",
      "metadata": {
        "id": "WZmkry_mXMxK",
        "colab_type": "code",
        "outputId": "79d4f40e-ef56-4a1c-da02-3378660200a7",
        "colab": {
          "base_uri": "https://localhost:8080/",
          "height": 90
        }
      },
      "source": [
        "# The MNIST data is split between 60,000 28 x 28 pixel training images and 10,000 28 x 28 pixel images\n",
        "(X_train, y_train), (X_test, y_test) = mnist.load_data()\n",
        "\n",
        "print(\"X_train shape\", X_train.shape)\n",
        "print(\"y_train shape\", y_train.shape)\n",
        "print(\"X_test shape\", X_test.shape)\n",
        "print(\"y_test shape\", y_test.shape)"
      ],
      "execution_count": 2,
      "outputs": [
        {
          "output_type": "stream",
          "text": [
            "X_train shape (60000, 28, 28)\n",
            "y_train shape (60000,)\n",
            "X_test shape (10000, 28, 28)\n",
            "y_test shape (10000,)\n"
          ],
          "name": "stdout"
        }
      ]
    },
    {
      "cell_type": "markdown",
      "metadata": {
        "id": "Srty8BDtXuz5",
        "colab_type": "text"
      },
      "source": [
        "Visualizar las imagenes"
      ]
    },
    {
      "cell_type": "code",
      "metadata": {
        "id": "ufiHDva2XxTG",
        "colab_type": "code",
        "outputId": "4adcc2f9-4f5e-44a5-918d-ef00f52d386d",
        "colab": {
          "base_uri": "https://localhost:8080/",
          "height": 657
        }
      },
      "source": [
        "plt.rcParams['figure.figsize'] = (9,9) # Make the figures a bit bigger\n",
        "\n",
        "for i in range(9):\n",
        "    plt.subplot(3,3,i+1)\n",
        "    num = random.randint(0, len(X_train))\n",
        "    plt.imshow(X_train[num], cmap='gray', interpolation='none')\n",
        "    plt.title(\"Class {}\".format(y_train[num]))\n",
        "    \n",
        "plt.tight_layout()"
      ],
      "execution_count": 3,
      "outputs": [
        {
          "output_type": "display_data",
          "data": {
            "image/png": "[encoded data removed]",
            "text/plain": [
              "<Figure size 648x648 with 9 Axes>"
            ]
          },
          "metadata": {
            "tags": [],
            "needs_background": "light"
          }
        }
      ]
    },
    {
      "cell_type": "markdown",
      "metadata": {
        "id": "JZuixd35X0Z0",
        "colab_type": "text"
      },
      "source": [
        "Imagenes como matriz"
      ]
    },
    {
      "cell_type": "code",
      "metadata": {
        "id": "AJsXoj1AX693",
        "colab_type": "code",
        "outputId": "3c1f7ef0-fcd8-4ef8-bb53-21faa6570cf6",
        "colab": {
          "base_uri": "https://localhost:8080/",
          "height": 551
        }
      },
      "source": [
        "# just a little function for pretty printing a matrix\n",
        "def matprint(mat, fmt=\"g\"):\n",
        "    col_maxes = [max([len((\"{:\"+fmt+\"}\").format(x)) for x in col]) for col in mat.T]\n",
        "    for x in mat:\n",
        "        for i, y in enumerate(x):\n",
        "            print((\"{:\"+str(col_maxes[i])+fmt+\"}\").format(y), end=\"  \")\n",
        "        print(\"\")\n",
        "\n",
        "# now print!        \n",
        "matprint(X_train[num])"
      ],
      "execution_count": 4,
      "outputs": [
        {
          "output_type": "stream",
          "text": [
            "0  0  0  0  0    0    0    0    0    0    0    0    0    0    0    0    0    0    0    0    0    0    0    0    0  0  0  0  \n",
            "0  0  0  0  0    0    0    0    0    0    0    0    0    0    0    0    0    0    0    0    0    0    0    0    0  0  0  0  \n",
            "0  0  0  0  0    0    0    0    0    0    0    0    0    0    0    0    0    0    0    0    0    0    0    0    0  0  0  0  \n",
            "0  0  0  0  0    0    0    0    0    0    0    0    0    0    0    0    0    0    0    0    0    0    0    0    0  0  0  0  \n",
            "0  0  0  0  0    0    0    0    0    0   27   53  139   97  119   14    0    0    0    0    0    0    0    0    0  0  0  0  \n",
            "0  0  0  0  0    0    0    0   22  192  246  251  254  254  254  244  109    0    0    0    0    0    0    0    0  0  0  0  \n",
            "0  0  0  0  0    0    0    0  152  236  254  254  149  116  171  254  237  106    0    0    0    0    0    0    0  0  0  0  \n",
            "0  0  0  0  0   24  100  103  248  251  149   40    1    0   23  233  254  254  187   30    0    0    0    0    0  0  0  0  \n",
            "0  0  0  0  0  237  255  254  231   67    0    0    0    0    0   44   91  174  209  217   18    0    0    0    0  0  0  0  \n",
            "0  0  0  0  0  221  254  254   63    0    0    0    0    0    0    0    0    0  116  254  177    0    0    0    0  0  0  0  \n",
            "0  0  0  0  0  136  254  254   40    0    0    0    0    0    0    0   68   86  170  232   71    0    0    0    0  0  0  0  \n",
            "0  0  0  0  0    2  192  254   91   57   47   72  185  199  102   80  236  252  224  130    0    0    0    0    0  0  0  0  \n",
            "0  0  0  0  0    0   27  125  243  251  248  254  254  254  251  212  251  254  198   29    0    0    0    0    0  0  0  0  \n",
            "0  0  0  0  0    0    0    9  222  254  254  254  226  251  231  178  229  254  254  236  173   51    0    0    0  0  0  0  \n",
            "0  0  0  0  0    0    0  134  254  254  254  233   51   42   21    0   57  166  233  254  254  248  157    0    0  0  0  0  \n",
            "0  0  0  0  0    0   27  239  252  205  167   19    0    0    0    0    0    0   19   82  166  252  248  124    0  0  0  0  \n",
            "0  0  0  0  0    0  160  254  121    0    0    0    0    0    0    0    0    0    0    0    0  122  254  241    2  0  0  0  \n",
            "0  0  0  0  0   25  246  221   13    0    0    0    0    0    0    0    0    0    0    0    0    0  146  254  135  0  0  0  \n",
            "0  0  0  0  0   77  254  254   40    0    0    0    0    0    0    0    0    0    0    0    0   11  153  254  165  0  0  0  \n",
            "0  0  0  0  0   34  247  254   59    0    0    0    0    0    0    0    0    0    0   15  105  192  254  254  228  0  0  0  \n",
            "0  0  0  0  0    0  110  250  237  148   96   27   29    0    0    0    0   31  102  160  254  254  250  214  108  0  0  0  \n",
            "0  0  0  0  0    0    0   93  182  249  254  238  240  206  206  174  206  241  254  254  254   92  124    0    0  0  0  0  \n",
            "0  0  0  0  0    0    0    0    0   89  154  241  245  245  254  254  249  241  122  118  132    9    0    0    0  0  0  0  \n",
            "0  0  0  0  0    0    0    0    0    0    0    0   22   23   76   76   44    0    0    0    0    0    0    0    0  0  0  0  \n",
            "0  0  0  0  0    0    0    0    0    0    0    0    0    0    0    0    0    0    0    0    0    0    0    0    0  0  0  0  \n",
            "0  0  0  0  0    0    0    0    0    0    0    0    0    0    0    0    0    0    0    0    0    0    0    0    0  0  0  0  \n",
            "0  0  0  0  0    0    0    0    0    0    0    0    0    0    0    0    0    0    0    0    0    0    0    0    0  0  0  0  \n",
            "0  0  0  0  0    0    0    0    0    0    0    0    0    0    0    0    0    0    0    0    0    0    0    0    0  0  0  0  \n"
          ],
          "name": "stdout"
        }
      ]
    },
    {
      "cell_type": "markdown",
      "metadata": {
        "id": "zl209_RsYIPz",
        "colab_type": "text"
      },
      "source": [
        "Cada pixel de la imagen es una entrada de la red neuronal por lo que el tensor de entrada es de dimension (60000,784)"
      ]
    },
    {
      "cell_type": "code",
      "metadata": {
        "id": "R73nHiPfYHTS",
        "colab_type": "code",
        "outputId": "28cb0664-056d-49b4-cb06-22c562da3a79",
        "colab": {
          "base_uri": "https://localhost:8080/",
          "height": 54
        }
      },
      "source": [
        "X_train = X_train.reshape(60000, 784) # reshape 60,000 28 x 28 matrices into 60,000 784-length vectors.\n",
        "X_test = X_test.reshape(10000, 784)   # reshape 10,000 28 x 28 matrices into 10,000 784-length vectors.\n",
        "\n",
        "X_train = X_train.astype('float32')   # change integers to 32-bit floating point numbers\n",
        "X_test = X_test.astype('float32')\n",
        "\n",
        "X_train /= 255                        # normalize each value for each pixel for the entire vector for each input\n",
        "X_test /= 255\n",
        "\n",
        "print(\"Training matrix shape\", X_train.shape)\n",
        "print(\"Testing matrix shape\", X_test.shape)"
      ],
      "execution_count": 5,
      "outputs": [
        {
          "output_type": "stream",
          "text": [
            "Training matrix shape (60000, 784)\n",
            "Testing matrix shape (10000, 784)\n"
          ],
          "name": "stdout"
        }
      ]
    },
    {
      "cell_type": "markdown",
      "metadata": {
        "id": "usGTFwd6Y0ZB",
        "colab_type": "text"
      },
      "source": [
        "Para la clasificacion es necesario el one-hot format"
      ]
    },
    {
      "cell_type": "code",
      "metadata": {
        "id": "I-i3NDPOYdza",
        "colab_type": "code",
        "colab": {}
      },
      "source": [
        "nb_classes = 10 # number of unique digits\n",
        "\n",
        "Y_train = np_utils.to_categorical(y_train, nb_classes)\n",
        "Y_test = np_utils.to_categorical(y_test, nb_classes)"
      ],
      "execution_count": 0,
      "outputs": []
    },
    {
      "cell_type": "markdown",
      "metadata": {
        "id": "Z_xlQ4ZEZP_7",
        "colab_type": "text"
      },
      "source": [
        "Construccion de la Red"
      ]
    },
    {
      "cell_type": "code",
      "metadata": {
        "id": "3BCcaeSaZyLT",
        "colab_type": "code",
        "colab": {}
      },
      "source": [
        "# The Sequential model is a linear stack of layers and is very common.\n",
        "\n",
        "model = Sequential()"
      ],
      "execution_count": 0,
      "outputs": []
    },
    {
      "cell_type": "code",
      "metadata": {
        "id": "q5w1a82lZN_n",
        "colab_type": "code",
        "colab": {}
      },
      "source": [
        "# The first hidden layer is a set of 512 nodes (artificial neurons).\n",
        "# Each node will receive an element from each input vector and apply some weight and bias to it.\n",
        "\n",
        "model.add(Dense(512, input_shape=(784,))) #(784,) is not a typo -- that represents a 784 length vector!"
      ],
      "execution_count": 0,
      "outputs": []
    },
    {
      "cell_type": "code",
      "metadata": {
        "id": "hHmmU7kCZYGe",
        "colab_type": "code",
        "colab": {}
      },
      "source": [
        "# An \"activation\" is a non-linear function applied to the output of the layer above.\n",
        "# It checks the new value of the node, and decides whether that artifical neuron has fired.\n",
        "# The Rectified Linear Unit (ReLU) converts all negative inputs to nodes in the next layer to be zero.\n",
        "# Those inputs are then not considered to be fired.\n",
        "# Positive values of a node are unchanged.\n",
        "\n",
        "model.add(Activation('relu'))"
      ],
      "execution_count": 0,
      "outputs": []
    },
    {
      "cell_type": "code",
      "metadata": {
        "id": "uvY6NrJeZeG7",
        "colab_type": "code",
        "colab": {}
      },
      "source": [
        "# Dropout zeroes a selection of random outputs (i.e., disables their activation)\n",
        "# Dropout helps protect the model from memorizing or \"overfitting\" the training data.\n",
        "model.add(Dropout(0.2))"
      ],
      "execution_count": 0,
      "outputs": []
    },
    {
      "cell_type": "markdown",
      "metadata": {
        "id": "1pnLQwDwZg9R",
        "colab_type": "text"
      },
      "source": [
        "Adicionando una capa"
      ]
    },
    {
      "cell_type": "code",
      "metadata": {
        "id": "wbk9FDcbZkvq",
        "colab_type": "code",
        "colab": {}
      },
      "source": [
        "# The second hidden layer appears identical to our first layer.\n",
        "# However, instead of each of the 512-node receiving 784-inputs from the input image data,\n",
        "# they receive 512 inputs from the output of the first 512-node layer.\n",
        "\n",
        "model.add(Dense(512))\n",
        "model.add(Activation('relu'))\n",
        "model.add(Dropout(0.2))"
      ],
      "execution_count": 0,
      "outputs": []
    },
    {
      "cell_type": "markdown",
      "metadata": {
        "id": "r3gNn3JvZ5pa",
        "colab_type": "text"
      },
      "source": [
        "Capa de salida"
      ]
    },
    {
      "cell_type": "code",
      "metadata": {
        "id": "TuyS4HNtZ7KU",
        "colab_type": "code",
        "colab": {}
      },
      "source": [
        "# The final layer of 10 neurons in fully-connected to the previous 512-node layer.\n",
        "# The final layer of a FCN should be equal to the number of desired classes (10 in this case).\n",
        "model.add(Dense(10))"
      ],
      "execution_count": 0,
      "outputs": []
    },
    {
      "cell_type": "code",
      "metadata": {
        "id": "3-sNXQwnZ_nC",
        "colab_type": "code",
        "colab": {}
      },
      "source": [
        "# The \"softmax\" activation represents a probability distribution over K different possible outcomes.\n",
        "# Its values are all non-negative and sum to 1.\n",
        "\n",
        "model.add(Activation('softmax'))"
      ],
      "execution_count": 0,
      "outputs": []
    },
    {
      "cell_type": "code",
      "metadata": {
        "id": "yKAx5ybuaES_",
        "colab_type": "code",
        "colab": {
          "base_uri": "https://localhost:8080/",
          "height": 495
        },
        "outputId": "ebe8db06-25dc-4a1b-84ca-c972fb736847"
      },
      "source": [
        "# Summarize the built model\n",
        "\n",
        "model.summary()"
      ],
      "execution_count": 15,
      "outputs": [
        {
          "output_type": "stream",
          "text": [
            "Model: \"sequential_1\"\n",
            "_________________________________________________________________\n",
            "Layer (type)                 Output Shape              Param #   \n",
            "=================================================================\n",
            "dense_1 (Dense)              (None, 512)               401920    \n",
            "_________________________________________________________________\n",
            "activation_1 (Activation)    (None, 512)               0         \n",
            "_________________________________________________________________\n",
            "dropout_1 (Dropout)          (None, 512)               0         \n",
            "_________________________________________________________________\n",
            "dense_2 (Dense)              (None, 512)               262656    \n",
            "_________________________________________________________________\n",
            "activation_2 (Activation)    (None, 512)               0         \n",
            "_________________________________________________________________\n",
            "dropout_2 (Dropout)          (None, 512)               0         \n",
            "_________________________________________________________________\n",
            "dense_3 (Dense)              (None, 10)                5130      \n",
            "_________________________________________________________________\n",
            "activation_3 (Activation)    (None, 10)                0         \n",
            "_________________________________________________________________\n",
            "activation_4 (Activation)    (None, 10)                0         \n",
            "=================================================================\n",
            "Total params: 669,706\n",
            "Trainable params: 669,706\n",
            "Non-trainable params: 0\n",
            "_________________________________________________________________\n"
          ],
          "name": "stdout"
        }
      ]
    },
    {
      "cell_type": "code",
      "metadata": {
        "id": "26nYur4vaV9I",
        "colab_type": "code",
        "colab": {}
      },
      "source": [
        "# Let's use the Adam optimizer for learning\n",
        "model.compile(loss='categorical_crossentropy', optimizer='adam', metrics=['accuracy'])"
      ],
      "execution_count": 0,
      "outputs": []
    },
    {
      "cell_type": "markdown",
      "metadata": {
        "id": "1UrVdo1Tadik",
        "colab_type": "text"
      },
      "source": [
        "Entrenando el modelo"
      ]
    },
    {
      "cell_type": "code",
      "metadata": {
        "id": "lWR-QCuTafJy",
        "colab_type": "code",
        "colab": {
          "base_uri": "https://localhost:8080/",
          "height": 219
        },
        "outputId": "912bab83-23a9-4d6e-a6fd-be2829232847"
      },
      "source": [
        "model.fit(X_train, Y_train,\n",
        "          batch_size=128, epochs=5,\n",
        "          verbose=1)"
      ],
      "execution_count": 17,
      "outputs": [
        {
          "output_type": "stream",
          "text": [
            "Epoch 1/5\n",
            "60000/60000 [==============================] - 9s 148us/step - loss: 1.8514 - accuracy: 0.6457\n",
            "Epoch 2/5\n",
            "60000/60000 [==============================] - 9s 147us/step - loss: 1.6023 - accuracy: 0.8754\n",
            "Epoch 3/5\n",
            "60000/60000 [==============================] - 9s 154us/step - loss: 1.5714 - accuracy: 0.8989\n",
            "Epoch 4/5\n",
            "60000/60000 [==============================] - 9s 149us/step - loss: 1.5590 - accuracy: 0.9091\n",
            "Epoch 5/5\n",
            "60000/60000 [==============================] - 9s 147us/step - loss: 1.5493 - accuracy: 0.9176\n"
          ],
          "name": "stdout"
        },
        {
          "output_type": "execute_result",
          "data": {
            "text/plain": [
              "<keras.callbacks.callbacks.History at 0x7fb9c85af2b0>"
            ]
          },
          "metadata": {
            "tags": []
          },
          "execution_count": 17
        }
      ]
    },
    {
      "cell_type": "markdown",
      "metadata": {
        "id": "V8DGFl2Uakfa",
        "colab_type": "text"
      },
      "source": [
        "Evaluando el modelo"
      ]
    },
    {
      "cell_type": "code",
      "metadata": {
        "id": "kqpw65L-ajnE",
        "colab_type": "code",
        "colab": {
          "base_uri": "https://localhost:8080/",
          "height": 72
        },
        "outputId": "0de82432-268b-48fb-80c1-6b1efe74fb79"
      },
      "source": [
        "score = model.evaluate(X_test, Y_test)\n",
        "print('Test score:', score[0])\n",
        "print('Test accuracy:', score[1])"
      ],
      "execution_count": 18,
      "outputs": [
        {
          "output_type": "stream",
          "text": [
            "10000/10000 [==============================] - 1s 67us/step\n",
            "Test score: 1.5393793268203735\n",
            "Test accuracy: 0.9254999756813049\n"
          ],
          "name": "stdout"
        }
      ]
    },
    {
      "cell_type": "markdown",
      "metadata": {
        "id": "kscqbCRWapsJ",
        "colab_type": "text"
      },
      "source": [
        "Verificando la salida"
      ]
    },
    {
      "cell_type": "code",
      "metadata": {
        "id": "a2dYDhIBarQZ",
        "colab_type": "code",
        "colab": {}
      },
      "source": [
        "# The predict_classes function outputs the highest probability class\n",
        "# according to the trained classifier for each input example.\n",
        "predicted_classes = model.predict_classes(X_test)\n",
        "\n",
        "# Check which items we got right / wrong\n",
        "correct_indices = np.nonzero(predicted_classes == y_test)[0]\n",
        "\n",
        "incorrect_indices = np.nonzero(predicted_classes != y_test)[0]"
      ],
      "execution_count": 0,
      "outputs": []
    },
    {
      "cell_type": "code",
      "metadata": {
        "id": "3Pyl7Xhtaup1",
        "colab_type": "code",
        "colab": {
          "base_uri": "https://localhost:8080/",
          "height": 1000
        },
        "outputId": "f3809c0d-c8d2-441d-b194-a22b08a873dc"
      },
      "source": [
        "plt.figure()\n",
        "for i, correct in enumerate(correct_indices[:9]):\n",
        "    plt.subplot(3,3,i+1)\n",
        "    plt.imshow(X_test[correct].reshape(28,28), cmap='gray', interpolation='none')\n",
        "    plt.title(\"Predicted {}, Class {}\".format(predicted_classes[correct], y_test[correct]))\n",
        "    \n",
        "plt.tight_layout()\n",
        "    \n",
        "plt.figure()\n",
        "for i, incorrect in enumerate(incorrect_indices[:9]):\n",
        "    plt.subplot(3,3,i+1)\n",
        "    plt.imshow(X_test[incorrect].reshape(28,28), cmap='gray', interpolation='none')\n",
        "    plt.title(\"Predicted {}, Class {}\".format(predicted_classes[incorrect], y_test[incorrect]))\n",
        "    \n",
        "plt.tight_layout()"
      ],
      "execution_count": 20,
      "outputs": [
        {
          "output_type": "display_data",
          "data": {
            "image/png": "[encoded data removed]",
            "text/plain": [
              "<Figure size 648x648 with 9 Axes>"
            ]
          },
          "metadata": {
            "tags": [],
            "needs_background": "light"
          }
        },
        {
          "output_type": "display_data",
          "data": {
            "image/png": "[encoded data removed]",
            "text/plain": [
              "<Figure size 648x648 with 9 Axes>"
            ]
          },
          "metadata": {
            "tags": [],
            "needs_background": "light"
          }
        }
      ]
    }
  ]
}