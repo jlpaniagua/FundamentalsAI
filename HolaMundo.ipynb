{
  "nbformat": 4,
  "nbformat_minor": 0,
  "metadata": {
    "colab": {
      "name": "HolaMundo.ipynb",
      "provenance": [],
      "toc_visible": true,
      "authorship_tag": "ABX9TyPh7rfnGIspiE2i5OH4sit8",
      "include_colab_link": true
    },
    "kernelspec": {
      "name": "python3",
      "display_name": "Python 3"
    }
  },
  "cells": [
    {
      "cell_type": "markdown",
      "metadata": {
        "id": "view-in-github",
        "colab_type": "text"
      },
      "source": [
        "<a href=\"https://colab.research.google.com/github/jlpaniagua/FundamentalsAI/blob/master/HolaMundo.ipynb\" target=\"_parent\"><img src=\"https://colab.research.google.com/assets/colab-badge.svg\" alt=\"Open In Colab\"/></a>"
      ]
    },
    {
      "cell_type": "markdown",
      "metadata": {
        "id": "XiGm9hCQkKC9",
        "colab_type": "text"
      },
      "source": [
        "# Primer Prgrama en Python\n"
      ]
    },
    {
      "cell_type": "code",
      "metadata": {
        "id": "DrYeNIbnj1mt",
        "colab_type": "code",
        "colab": {
          "base_uri": "https://localhost:8080/",
          "height": 35
        },
        "outputId": "1d4267de-e82b-4069-f0a8-9b509cc0c336"
      },
      "source": [
        "print(\"Hola Mundo\")"
      ],
      "execution_count": 1,
      "outputs": [
        {
          "output_type": "stream",
          "text": [
            "Hola Mundo\n"
          ],
          "name": "stdout"
        }
      ]
    }
  ]
}