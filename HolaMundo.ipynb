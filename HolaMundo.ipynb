{
  "nbformat": 4,
  "nbformat_minor": 0,
  "metadata": {
    "colab": {
      "name": "HolaMundo.ipynb",
      "provenance": [],
      "toc_visible": true,
      "authorship_tag": "ABX9TyPFIFOHKGdsT/hMneg/szJ+",
      "include_colab_link": true
    },
    "kernelspec": {
      "name": "python3",
      "display_name": "Python 3"
    }
  },
  "cells": [
    {
      "cell_type": "markdown",
      "metadata": {
        "id": "view-in-github",
        "colab_type": "text"
      },
      "source": [
        "<a href=\"https://colab.research.google.com/github/jlpaniagua/FundamentalsAI/blob/master/HolaMundo.ipynb\" target=\"_parent\"><img src=\"https://colab.research.google.com/assets/colab-badge.svg\" alt=\"Open In Colab\"/></a>"
      ]
    },
    {
      "cell_type": "markdown",
      "metadata": {
        "id": "XiGm9hCQkKC9",
        "colab_type": "text"
      },
      "source": [
        "# **Primer Prgrama en Python**\n"
      ]
    },
    {
      "cell_type": "code",
      "metadata": {
        "id": "DrYeNIbnj1mt",
        "colab_type": "code",
        "colab": {}
      },
      "source": [
        "print(\"Hola Mundo\")"
      ],
      "execution_count": 0,
      "outputs": []
    },
    {
      "cell_type": "markdown",
      "metadata": {
        "id": "wT6XjmCnmWiC",
        "colab_type": "text"
      },
      "source": [
        "# **Programas Basicos**"
      ]
    },
    {
      "cell_type": "markdown",
      "metadata": {
        "id": "32zOK1FYmz4H",
        "colab_type": "text"
      },
      "source": [
        "1) Crear dos variables numericas, sumarlas y mostrar el resultado\n",
        "\n",
        "\n",
        "\n",
        "\n",
        "\n",
        "\n"
      ]
    },
    {
      "cell_type": "code",
      "metadata": {
        "id": "JL8BEdpdmV-R",
        "colab_type": "code",
        "colab": {}
      },
      "source": [
        "variable1 = 5\n",
        "variable2 = 6\n",
        " \n",
        "suma = variable1 + variable2\n",
        " \n",
        "print(\"La suma de \",variable1,\"+\",variable2,\"=\",suma)\n"
      ],
      "execution_count": 0,
      "outputs": []
    },
    {
      "cell_type": "markdown",
      "metadata": {
        "id": "BhY3pnIxm89z",
        "colab_type": "text"
      },
      "source": [
        "2)  Mostrar el precio del IVA de un producto con un valor de 100 y su precio final.\n",
        "\n"
      ]
    },
    {
      "cell_type": "code",
      "metadata": {
        "id": "OgFW9JDanMUB",
        "colab_type": "code",
        "colab": {}
      },
      "source": [
        "IVA = 0.19\n",
        " \n",
        "precioProducto = 100\n",
        " \n",
        "precioIVA = precioProducto * IVA\n",
        " \n",
        "print(\"El precio del IVA es\", precioIVA, \"$\")\n",
        " \n",
        "print(\"El precio final es\", (precioIVA+precioProducto) ,\"$\")\n"
      ],
      "execution_count": 0,
      "outputs": []
    },
    {
      "cell_type": "markdown",
      "metadata": {
        "id": "o0d2EdIboTZm",
        "colab_type": "text"
      },
      "source": [
        "# **Sentencias de Control**\n",
        "## Senticia if"
      ]
    },
    {
      "cell_type": "markdown",
      "metadata": {
        "id": "F_kgQ5LXnbXp",
        "colab_type": "text"
      },
      "source": [
        "1) De dos números, saber cual es el mayor."
      ]
    },
    {
      "cell_type": "code",
      "metadata": {
        "id": "hSgXXnuMndgr",
        "colab_type": "code",
        "colab": {}
      },
      "source": [
        "a = 7\n",
        "b = 5\n",
        " \n",
        "if( a<b ):\n",
        "    print(\"A es menor que B\")\n",
        "else:\n",
        "    print(\"B es menor que A\")"
      ],
      "execution_count": 0,
      "outputs": []
    },
    {
      "cell_type": "markdown",
      "metadata": {
        "id": "_W1owHocowq4",
        "colab_type": "text"
      },
      "source": [
        "2) programa que pida al usuario, su edad y determine si es mayor de edad."
      ]
    },
    {
      "cell_type": "code",
      "metadata": {
        "colab_type": "code",
        "id": "iIpkP2tgpFw6",
        "colab": {}
      },
      "source": [
        "edad=int(input(\"Digite su edad: \"))\n",
        "mayor_edad=18\n",
        "\n",
        "if edad >= mayor_edad:\n",
        "    print (\"Eres mayor de edad\")"
      ],
      "execution_count": 0,
      "outputs": []
    },
    {
      "cell_type": "markdown",
      "metadata": {
        "id": "Azl8XK3TpkLp",
        "colab_type": "text"
      },
      "source": [
        "3) Realice un programa que pide un número positivo al usuario y almacena la respuesta en la variable \"numero\". Después comprueba si el número es negativo. Si lo es, el programa avisa que no era eso lo que se había pedido."
      ]
    },
    {
      "cell_type": "code",
      "metadata": {
        "id": "cwrtNgN8pkfL",
        "colab_type": "code",
        "colab": {}
      },
      "source": [
        "numero = int(input(\"Escriba un número positivo: \"))\n",
        "if numero < 0:\n",
        "    print(\"¡Le he dicho que escriba un número positivo!\")\n",
        "print(f\"Ha escrito el número {numero}\")"
      ],
      "execution_count": 0,
      "outputs": []
    },
    {
      "cell_type": "markdown",
      "metadata": {
        "id": "OzE9iooRqDKp",
        "colab_type": "text"
      },
      "source": [
        "## Sentencia if...else"
      ]
    },
    {
      "cell_type": "markdown",
      "metadata": {
        "id": "1tts0VUYqLQm",
        "colab_type": "text"
      },
      "source": [
        "1) programa que pida al usuario, su edad y determine si es mayor de edad o no."
      ]
    },
    {
      "cell_type": "code",
      "metadata": {
        "id": "tuB2vnTiqIdR",
        "colab_type": "code",
        "colab": {}
      },
      "source": [
        "edad = int(input(\"¿Cuántos años tiene? \"))\n",
        "if edad < 18:\n",
        "    print(\"Es usted menor de edad\")\n",
        "else:\n",
        "    print(\"Es usted mayor de edad\")"
      ],
      "execution_count": 0,
      "outputs": []
    },
    {
      "cell_type": "markdown",
      "metadata": {
        "id": "8ErwQXrcqsjT",
        "colab_type": "text"
      },
      "source": [
        "2) Realice un programa que determine si el número entero ingresado por el usuario es par o no.\n"
      ]
    },
    {
      "cell_type": "code",
      "metadata": {
        "id": "unSbofyWquKd",
        "colab_type": "code",
        "colab": {}
      },
      "source": [
        "numero=int(input(\"Ingrese un numero: \"))\n",
        "if (numero%2)==0:\n",
        "    print(\"Su numero es par\")\n",
        "else:\n",
        "    print(\"Su numero es impar\")"
      ],
      "execution_count": 0,
      "outputs": []
    },
    {
      "cell_type": "markdown",
      "metadata": {
        "id": "j4EhlF-Dq8Nh",
        "colab_type": "text"
      },
      "source": [
        "## Sentencia if...elif...else"
      ]
    },
    {
      "cell_type": "markdown",
      "metadata": {
        "id": "cFboSKZBrBJJ",
        "colab_type": "text"
      },
      "source": [
        "1) Realice un programa que determine si el número entero ingresado por el usuario es positivo, negativo o cero.\n"
      ]
    },
    {
      "cell_type": "code",
      "metadata": {
        "id": "MBorvAQ-rEpE",
        "colab_type": "code",
        "colab": {}
      },
      "source": [
        "numero=int(input(\"Escriba un numero: \"))\n",
        "if numero>0:\n",
        "    print(\"Su numero es positivo\")\n",
        "elif numero<0:\n",
        "    print(\"Su numero es negativo\")\n",
        "else:\n",
        "    print(\"Su numero es cero\")"
      ],
      "execution_count": 0,
      "outputs": []
    },
    {
      "cell_type": "markdown",
      "metadata": {
        "id": "yziHkf4jsHTM",
        "colab_type": "text"
      },
      "source": [
        "2) Escriba un programa que pida dos números enteros e indique si son iguales o cual de los dos es mayor.\n"
      ]
    },
    {
      "cell_type": "code",
      "metadata": {
        "colab_type": "code",
        "id": "480P4av-sVxw",
        "colab": {}
      },
      "source": [
        "numero1=float(input(\"Digite el primer numero\"))\n",
        "numero2=float(input(\"Digite el segundo numero\"))\n",
        "\n",
        "if numero1 == numero2:\n",
        "    print(\"Los numeros son iguales\")\n",
        "elif numero1 >numero2:\n",
        "    print(numero1, \" es mayor que \", numero2)\n",
        "else:\n",
        "    print(numero1, \" es menor que \", numero2)"
      ],
      "execution_count": 0,
      "outputs": []
    },
    {
      "cell_type": "markdown",
      "metadata": {
        "id": "QZ4Yy__Jse1o",
        "colab_type": "text"
      },
      "source": [
        "## Ciclo for"
      ]
    },
    {
      "cell_type": "markdown",
      "metadata": {
        "id": "b7AbkrVjsggy",
        "colab_type": "text"
      },
      "source": [
        "1) programa que imprima 3 veces la palabra “Hola”\n"
      ]
    },
    {
      "cell_type": "code",
      "metadata": {
        "id": "3b95MLMesjst",
        "colab_type": "code",
        "colab": {
          "base_uri": "https://localhost:8080/",
          "height": 127
        },
        "outputId": "6c838409-37f6-40cf-9221-7a1b3786b570"
      },
      "source": [
        "print(\"inicio\")\n",
        "for numero in [0,1,2,3]:\n",
        "  print(\"Hola \", end=\"\")\n",
        "  print()\n",
        "print(\"fin\")"
      ],
      "execution_count": 18,
      "outputs": [
        {
          "output_type": "stream",
          "text": [
            "inicio\n",
            "Hola \n",
            "Hola \n",
            "Hola \n",
            "Hola \n",
            "fin\n"
          ],
          "name": "stdout"
        }
      ]
    }
  ]
}