{
  "nbformat": 4,
  "nbformat_minor": 0,
  "metadata": {
    "colab": {
      "name": "Semana1IntroduccionPython.ipynb",
      "provenance": [],
      "toc_visible": true,
      "authorship_tag": "ABX9TyPS5XUZDOuZ+c1X9N9plUrh",
      "include_colab_link": true
    },
    "kernelspec": {
      "name": "python3",
      "display_name": "Python 3"
    }
  },
  "cells": [
    {
      "cell_type": "markdown",
      "metadata": {
        "id": "view-in-github",
        "colab_type": "text"
      },
      "source": [
        "<a href=\"https://colab.research.google.com/github/jlpaniagua/FundamentalsAI/blob/master/Semana1IntroduccionPython.ipynb\" target=\"_parent\"><img src=\"https://colab.research.google.com/assets/colab-badge.svg\" alt=\"Open In Colab\"/></a>"
      ]
    },
    {
      "cell_type": "markdown",
      "metadata": {
        "id": "XiGm9hCQkKC9",
        "colab_type": "text"
      },
      "source": [
        "# **Primer Prgrama en Python**\n"
      ]
    },
    {
      "cell_type": "code",
      "metadata": {
        "id": "DrYeNIbnj1mt",
        "colab_type": "code",
        "colab": {}
      },
      "source": [
        "print(\"Hola Mundo\")"
      ],
      "execution_count": 0,
      "outputs": []
    },
    {
      "cell_type": "markdown",
      "metadata": {
        "id": "wT6XjmCnmWiC",
        "colab_type": "text"
      },
      "source": [
        "# **Programas Basicos**"
      ]
    },
    {
      "cell_type": "markdown",
      "metadata": {
        "id": "32zOK1FYmz4H",
        "colab_type": "text"
      },
      "source": [
        "1) Crear dos variables numericas, sumarlas y mostrar el resultado\n",
        "\n",
        "\n",
        "\n",
        "\n",
        "\n",
        "\n"
      ]
    },
    {
      "cell_type": "code",
      "metadata": {
        "id": "JL8BEdpdmV-R",
        "colab_type": "code",
        "colab": {}
      },
      "source": [
        "variable1 = 5\n",
        "variable2 = 6\n",
        " \n",
        "suma = variable1 + variable2\n",
        " \n",
        "print(\"La suma de \",variable1,\"+\",variable2,\"=\",suma)\n"
      ],
      "execution_count": 0,
      "outputs": []
    },
    {
      "cell_type": "markdown",
      "metadata": {
        "id": "BhY3pnIxm89z",
        "colab_type": "text"
      },
      "source": [
        "2)  Mostrar el precio del IVA de un producto con un valor de 100 y su precio final.\n",
        "\n"
      ]
    },
    {
      "cell_type": "code",
      "metadata": {
        "id": "OgFW9JDanMUB",
        "colab_type": "code",
        "colab": {}
      },
      "source": [
        "IVA = 0.19\n",
        " \n",
        "precioProducto = 100\n",
        " \n",
        "precioIVA = precioProducto * IVA\n",
        " \n",
        "print(\"El precio del IVA es\", precioIVA, \"$\")\n",
        " \n",
        "print(\"El precio final es\", (precioIVA+precioProducto) ,\"$\")\n"
      ],
      "execution_count": 0,
      "outputs": []
    },
    {
      "cell_type": "markdown",
      "metadata": {
        "id": "o0d2EdIboTZm",
        "colab_type": "text"
      },
      "source": [
        "# **Sentencias de Control**\n",
        "## Senticia if"
      ]
    },
    {
      "cell_type": "markdown",
      "metadata": {
        "id": "F_kgQ5LXnbXp",
        "colab_type": "text"
      },
      "source": [
        "1) De dos números, saber cual es el mayor."
      ]
    },
    {
      "cell_type": "code",
      "metadata": {
        "id": "hSgXXnuMndgr",
        "colab_type": "code",
        "colab": {}
      },
      "source": [
        "a = 7\n",
        "b = 5\n",
        " \n",
        "if( a<b ):\n",
        "    print(\"A es menor que B\")\n",
        "else:\n",
        "    print(\"B es menor que A\")"
      ],
      "execution_count": 0,
      "outputs": []
    },
    {
      "cell_type": "markdown",
      "metadata": {
        "id": "_W1owHocowq4",
        "colab_type": "text"
      },
      "source": [
        "2) programa que pida al usuario, su edad y determine si es mayor de edad."
      ]
    },
    {
      "cell_type": "code",
      "metadata": {
        "colab_type": "code",
        "id": "iIpkP2tgpFw6",
        "colab": {}
      },
      "source": [
        "edad=int(input(\"Digite su edad: \"))\n",
        "mayor_edad=18\n",
        "\n",
        "if edad >= mayor_edad:\n",
        "    print (\"Eres mayor de edad\")"
      ],
      "execution_count": 0,
      "outputs": []
    },
    {
      "cell_type": "markdown",
      "metadata": {
        "id": "Azl8XK3TpkLp",
        "colab_type": "text"
      },
      "source": [
        "3) Realice un programa que pide un número positivo al usuario y almacena la respuesta en la variable \"numero\". Después comprueba si el número es negativo. Si lo es, el programa avisa que no era eso lo que se había pedido."
      ]
    },
    {
      "cell_type": "code",
      "metadata": {
        "id": "cwrtNgN8pkfL",
        "colab_type": "code",
        "colab": {}
      },
      "source": [
        "numero = int(input(\"Escriba un número positivo: \"))\n",
        "if numero < 0:\n",
        "    print(\"¡Le he dicho que escriba un número positivo!\")\n",
        "print(f\"Ha escrito el número {numero}\")"
      ],
      "execution_count": 0,
      "outputs": []
    },
    {
      "cell_type": "markdown",
      "metadata": {
        "id": "OzE9iooRqDKp",
        "colab_type": "text"
      },
      "source": [
        "## Sentencia if...else"
      ]
    },
    {
      "cell_type": "markdown",
      "metadata": {
        "id": "1tts0VUYqLQm",
        "colab_type": "text"
      },
      "source": [
        "1) programa que pida al usuario, su edad y determine si es mayor de edad o no."
      ]
    },
    {
      "cell_type": "code",
      "metadata": {
        "id": "tuB2vnTiqIdR",
        "colab_type": "code",
        "colab": {}
      },
      "source": [
        "edad = int(input(\"¿Cuántos años tiene? \"))\n",
        "if edad < 18:\n",
        "    print(\"Es usted menor de edad\")\n",
        "else:\n",
        "    print(\"Es usted mayor de edad\")"
      ],
      "execution_count": 0,
      "outputs": []
    },
    {
      "cell_type": "markdown",
      "metadata": {
        "id": "8ErwQXrcqsjT",
        "colab_type": "text"
      },
      "source": [
        "2) Realice un programa que determine si el número entero ingresado por el usuario es par o no.\n"
      ]
    },
    {
      "cell_type": "code",
      "metadata": {
        "id": "unSbofyWquKd",
        "colab_type": "code",
        "colab": {}
      },
      "source": [
        "numero=int(input(\"Ingrese un numero: \"))\n",
        "if (numero%2)==0:\n",
        "    print(\"Su numero es par\")\n",
        "else:\n",
        "    print(\"Su numero es impar\")"
      ],
      "execution_count": 0,
      "outputs": []
    },
    {
      "cell_type": "markdown",
      "metadata": {
        "id": "j4EhlF-Dq8Nh",
        "colab_type": "text"
      },
      "source": [
        "## Sentencia if...elif...else"
      ]
    },
    {
      "cell_type": "markdown",
      "metadata": {
        "id": "cFboSKZBrBJJ",
        "colab_type": "text"
      },
      "source": [
        "1) Realice un programa que determine si el número entero ingresado por el usuario es positivo, negativo o cero.\n"
      ]
    },
    {
      "cell_type": "code",
      "metadata": {
        "id": "MBorvAQ-rEpE",
        "colab_type": "code",
        "colab": {}
      },
      "source": [
        "numero=int(input(\"Escriba un numero: \"))\n",
        "if numero>0:\n",
        "    print(\"Su numero es positivo\")\n",
        "elif numero<0:\n",
        "    print(\"Su numero es negativo\")\n",
        "else:\n",
        "    print(\"Su numero es cero\")"
      ],
      "execution_count": 0,
      "outputs": []
    },
    {
      "cell_type": "markdown",
      "metadata": {
        "id": "yziHkf4jsHTM",
        "colab_type": "text"
      },
      "source": [
        "2) Escriba un programa que pida dos números enteros e indique si son iguales o cual de los dos es mayor.\n"
      ]
    },
    {
      "cell_type": "code",
      "metadata": {
        "colab_type": "code",
        "id": "480P4av-sVxw",
        "colab": {}
      },
      "source": [
        "numero1=float(input(\"Digite el primer numero\"))\n",
        "numero2=float(input(\"Digite el segundo numero\"))\n",
        "\n",
        "if numero1 == numero2:\n",
        "    print(\"Los numeros son iguales\")\n",
        "elif numero1 >numero2:\n",
        "    print(numero1, \" es mayor que \", numero2)\n",
        "else:\n",
        "    print(numero1, \" es menor que \", numero2)"
      ],
      "execution_count": 0,
      "outputs": []
    },
    {
      "cell_type": "markdown",
      "metadata": {
        "id": "QZ4Yy__Jse1o",
        "colab_type": "text"
      },
      "source": [
        "## Ciclo for"
      ]
    },
    {
      "cell_type": "markdown",
      "metadata": {
        "id": "b7AbkrVjsggy",
        "colab_type": "text"
      },
      "source": [
        "1) programa que imprima 3 veces la palabra “Hola”\n"
      ]
    },
    {
      "cell_type": "code",
      "metadata": {
        "id": "3b95MLMesjst",
        "colab_type": "code",
        "colab": {
          "base_uri": "https://localhost:8080/",
          "height": 127
        },
        "outputId": "6c838409-37f6-40cf-9221-7a1b3786b570"
      },
      "source": [
        "print(\"inicio\")\n",
        "for numero in [0,1,2,3]:\n",
        "  print(\"Hola \", end=\"\")\n",
        "  print()\n",
        "print(\"fin\")"
      ],
      "execution_count": 18,
      "outputs": [
        {
          "output_type": "stream",
          "text": [
            "inicio\n",
            "Hola \n",
            "Hola \n",
            "Hola \n",
            "Hola \n",
            "fin\n"
          ],
          "name": "stdout"
        }
      ]
    },
    {
      "cell_type": "markdown",
      "metadata": {
        "id": "OhP11P-YtmNj",
        "colab_type": "text"
      },
      "source": [
        "2) Escriba un programa que imprima los números impares del 1 al 99\n"
      ]
    },
    {
      "cell_type": "code",
      "metadata": {
        "id": "aMeWBHXltpx3",
        "colab_type": "code",
        "colab": {}
      },
      "source": [
        "for i in range(1,100):\n",
        "    if i%2!=0:\n",
        "        print(i)"
      ],
      "execution_count": 0,
      "outputs": []
    },
    {
      "cell_type": "markdown",
      "metadata": {
        "id": "WLtsF29tuAGd",
        "colab_type": "text"
      },
      "source": [
        "## Ciclo while"
      ]
    },
    {
      "cell_type": "markdown",
      "metadata": {
        "id": "LRKjnRWruCML",
        "colab_type": "text"
      },
      "source": [
        "1) programa que imprima los números del 1 al 3\n"
      ]
    },
    {
      "cell_type": "code",
      "metadata": {
        "id": "kTk_e1bPuH7y",
        "colab_type": "code",
        "colab": {}
      },
      "source": [
        "i=1\n",
        "while i<=3:\n",
        "  print(i)\n",
        "  i+=1\n",
        "print(\"Fin\")"
      ],
      "execution_count": 0,
      "outputs": []
    },
    {
      "cell_type": "markdown",
      "metadata": {
        "id": "IRVmT_NluTy4",
        "colab_type": "text"
      },
      "source": [
        "2) Escriba un programa que pida al usuario un numero positivo una y otra vez hasta que el usuario lo haga correctamente\n"
      ]
    },
    {
      "cell_type": "code",
      "metadata": {
        "id": "egVzTZ_guXx2",
        "colab_type": "code",
        "colab": {}
      },
      "source": [
        "numero=int(input(\"Digite un numero positivo:\"))\n",
        "\n",
        "while numero<0:\n",
        "    print(\"Ha escrito un numero negativo! Intentelo de nuevo\")\n",
        "    numero=int(input(\"Digite un numero positivo:\"))\n",
        "print(\"Gracias\")"
      ],
      "execution_count": 0,
      "outputs": []
    },
    {
      "cell_type": "markdown",
      "metadata": {
        "id": "1DAmn67Augt5",
        "colab_type": "text"
      },
      "source": [
        "# **Librerias, Vectores y Matrices**"
      ]
    },
    {
      "cell_type": "markdown",
      "metadata": {
        "id": "rswOZz_fvCVa",
        "colab_type": "text"
      },
      "source": [
        "## Arreglos unidimensionales: Vectores"
      ]
    },
    {
      "cell_type": "markdown",
      "metadata": {
        "id": "CHkrtcYJvNbG",
        "colab_type": "text"
      },
      "source": [
        "## Vector de numeros enteros"
      ]
    },
    {
      "cell_type": "code",
      "metadata": {
        "id": "J4zx7kyGutwq",
        "colab_type": "code",
        "colab": {}
      },
      "source": [
        "from numpy import array\n",
        "a=array([6,1,3,9,8])\n",
        "print(a)"
      ],
      "execution_count": 0,
      "outputs": []
    },
    {
      "cell_type": "markdown",
      "metadata": {
        "id": "zyYuw46VvRhs",
        "colab_type": "text"
      },
      "source": [
        "## Vector de Numeros reales"
      ]
    },
    {
      "cell_type": "code",
      "metadata": {
        "id": "Ijs90oIava_O",
        "colab_type": "code",
        "colab": {}
      },
      "source": [
        "from numpy import array\n",
        "a=array([6.0,1,3,9,8])\n",
        "print(a)"
      ],
      "execution_count": 0,
      "outputs": []
    },
    {
      "cell_type": "markdown",
      "metadata": {
        "id": "faH3mRh4viTz",
        "colab_type": "text"
      },
      "source": [
        "## Operaciones con Vectores"
      ]
    },
    {
      "cell_type": "code",
      "metadata": {
        "id": "qyuzUguBvn9G",
        "colab_type": "code",
        "colab": {}
      },
      "source": [
        "from numpy import array\n",
        "\n",
        "b = array([6.0, 1, 3, 9, 8])\n",
        "\n",
        "a = array([6, 1, 3, 9, 8])\n",
        "\n",
        "# multiplicar por 0.1 todos los elementos\n",
        "prod=0.1 * a\n",
        "print(prod)\n",
        "\n",
        "# restar 9.0 a todos los elementos\n",
        "resta=a - 9.0\n",
        "print(resta)\n",
        "\n",
        "\n",
        "# sumar los dos arreglos elemento a elemento\n",
        "s=a + b\n",
        "print(s)\n",
        "\n",
        "# multiplicar elemento a elemento\n",
        "m=a * b\n",
        "print(m)\n",
        "\n",
        "# restar elemento a elemento\n",
        "r=a - b\n",
        "print(r)\n",
        "\n",
        "#dividir elemento a elemento\n",
        "d=a/b\n",
        "print(d)\n",
        "\n"
      ],
      "execution_count": 0,
      "outputs": []
    },
    {
      "cell_type": "markdown",
      "metadata": {
        "id": "Ye0E8egrwm0J",
        "colab_type": "text"
      },
      "source": [
        "## Obtener elementos de un vector"
      ]
    },
    {
      "cell_type": "markdown",
      "metadata": {
        "id": "gifLhhP2w8sz",
        "colab_type": "text"
      },
      "source": [
        "### obtener un unico elemento"
      ]
    },
    {
      "cell_type": "code",
      "metadata": {
        "id": "L_7h8eZlwrr3",
        "colab_type": "code",
        "colab": {}
      },
      "source": [
        "a=array([6.2, -2.3,3.4,4.7,9.8])\n",
        "posicion1=a[0]\n",
        "print(posicion1)"
      ],
      "execution_count": 0,
      "outputs": []
    },
    {
      "cell_type": "markdown",
      "metadata": {
        "id": "bzEkCsqYxBVa",
        "colab_type": "text"
      },
      "source": [
        "###obtener una seccion de elementos de un vector"
      ]
    },
    {
      "cell_type": "code",
      "metadata": {
        "id": "xKfXsv_axJ8u",
        "colab_type": "code",
        "colab": {}
      },
      "source": [
        "a=array([6.2, -2.3,3.4,4.7,9.8])\n",
        "elementos=a[1:4]\n",
        "print(elementos)"
      ],
      "execution_count": 0,
      "outputs": []
    },
    {
      "cell_type": "markdown",
      "metadata": {
        "id": "oiqPMniMxaTC",
        "colab_type": "text"
      },
      "source": [
        "#Arreglos bidimensionales: Matrices"
      ]
    },
    {
      "cell_type": "code",
      "metadata": {
        "id": "uIKJQKKnxejy",
        "colab_type": "code",
        "colab": {
          "base_uri": "https://localhost:8080/",
          "height": 72
        },
        "outputId": "894f39bb-d836-4ae3-af53-0b2384b59978"
      },
      "source": [
        "a=array([[5.1,7.4,3.2,9.9],\n",
        "         [1.9,6.8,4.1,2.3],\n",
        "         [2.9,6.4,4.3,1.4]])\n",
        "print(a)"
      ],
      "execution_count": 34,
      "outputs": [
        {
          "output_type": "stream",
          "text": [
            "[[5.1 7.4 3.2 9.9]\n",
            " [1.9 6.8 4.1 2.3]\n",
            " [2.9 6.4 4.3 1.4]]\n"
          ],
          "name": "stdout"
        }
      ]
    },
    {
      "cell_type": "markdown",
      "metadata": {
        "id": "1mZBNmwBx5ad",
        "colab_type": "text"
      },
      "source": [
        "## Operaciones con Matrices"
      ]
    },
    {
      "cell_type": "markdown",
      "metadata": {
        "id": "8KKgrt3cymAE",
        "colab_type": "text"
      },
      "source": [
        "###Suma\n"
      ]
    },
    {
      "cell_type": "code",
      "metadata": {
        "id": "S890z6rwyoMs",
        "colab_type": "code",
        "colab": {}
      },
      "source": [
        "matrizA=array([[0,0],[0,0]])\n",
        "matrizB=array([[0,0],[0,0]])\n",
        "\n",
        "\n",
        "print(\"Elementos de la Matriz A\")\n",
        "for i in range(0,2):\n",
        "    for j in range(0,2):\n",
        "        print(\"Digite un numero para la Matriz A:\")\n",
        "        matrizA[i,j]=float(input())\n",
        "\n",
        "print(\"Elementos de la Matriz B\")\n",
        "for i in range(0,2):\n",
        "    for j in range(0,2):\n",
        "        print(\"Digite un numero para la Matriz B:\")\n",
        "        matrizB[i,j]=float(input())\n",
        "        \n",
        "suma=matrizA+matrizB\n",
        "\n",
        "print(\"el resultado de la suma de matriz A + matriz B es:\",suma)"
      ],
      "execution_count": 0,
      "outputs": []
    },
    {
      "cell_type": "markdown",
      "metadata": {
        "id": "BC_0KEH3yqFa",
        "colab_type": "text"
      },
      "source": [
        "###Producto"
      ]
    },
    {
      "cell_type": "code",
      "metadata": {
        "id": "D0KGxb2aysJi",
        "colab_type": "code",
        "colab": {}
      },
      "source": [
        "matrizA=array([[0,0],[0,0]])\n",
        "matrizB=array([[0,0],[0,0]])\n",
        "producto=array([[0,0],[0,0]])\n",
        "\n",
        "\n",
        "print(\"Elementos de la Matriz A\")\n",
        "for i in range(0,2):\n",
        "    for j in range(0,2):\n",
        "        print(\"Digite un numero para la Matriz A:\")\n",
        "        matrizA[i,j]=float(input())\n",
        "        \n",
        "print(matrizA)\n",
        "print(\"Elementos de la Matriz B\")\n",
        "\n",
        "for i in range(0,2):\n",
        "    for j in range(0,2):\n",
        "        print(\"Digite un numero para la Matriz B:\")\n",
        "        matrizB[i,j]=float(input())\n",
        "print(matrizB)\n",
        "\n",
        "\n",
        "for i in range(0,2):\n",
        "    for j in range(0,2):\n",
        "        for k in range(0,2):    \n",
        "            producto[i,j]+=(matrizA[i,k]*matrizB[k,j])\n",
        "\n",
        "print(\"el resultado del producto de matriz A x matriz B es:\",producto)"
      ],
      "execution_count": 0,
      "outputs": []
    },
    {
      "cell_type": "markdown",
      "metadata": {
        "id": "2lBpI3otz2_g",
        "colab_type": "text"
      },
      "source": [
        "#**Forma adecuada de trabajar con Numpy**\n"
      ]
    },
    {
      "cell_type": "code",
      "metadata": {
        "id": "bZSriPHv0FMe",
        "colab_type": "code",
        "colab": {}
      },
      "source": [
        "import numpy as np\n",
        "\n",
        "a = np.array([1, 2, 3])   # Create a rank 1 array\n",
        "print(type(a))            # Prints \"<class 'numpy.ndarray'>\"\n",
        "print(a.shape)            # Prints \"(3,)\"\n",
        "print(a[0], a[1], a[2])   # Prints \"1 2 3\"\n",
        "a[0] = 5                  # Change an element of the array\n",
        "print(a)                  # Prints \"[5, 2, 3]\"\n",
        "\n",
        "b = np.array([[1,2,3],[4,5,6]])    # Create a rank 2 array\n",
        "print(b.shape)                     # Prints \"(2, 3)\"\n",
        "print(b[0, 0], b[0, 1], b[1, 0])   # Prints \"1 2 4\"\n"
      ],
      "execution_count": 0,
      "outputs": []
    },
    {
      "cell_type": "markdown",
      "metadata": {
        "id": "rE1glt7F0TlW",
        "colab_type": "text"
      },
      "source": [
        "## Numpy tiene muchas funciones para crear arreglos"
      ]
    },
    {
      "cell_type": "code",
      "metadata": {
        "id": "Lyo0TybY0YET",
        "colab_type": "code",
        "colab": {}
      },
      "source": [
        "import numpy as np\n",
        "\n",
        "a = np.zeros((2,2))   # Create an array of all zeros\n",
        "print(a)              # Prints \"[[ 0.  0.]\n",
        "                      #          [ 0.  0.]]\"\n",
        "\n",
        "b = np.ones((1,2))    # Create an array of all ones\n",
        "print(b)              # Prints \"[[ 1.  1.]]\"\n",
        "\n",
        "c = np.full((2,2), 7)  # Create a constant array\n",
        "print(c)               # Prints \"[[ 7.  7.]\n",
        "                       #          [ 7.  7.]]\"\n",
        "\n",
        "d = np.eye(2)         # Create a 2x2 identity matrix\n",
        "print(d)              # Prints \"[[ 1.  0.]\n",
        "                      #          [ 0.  1.]]\"\n",
        "\n",
        "e = np.random.random((2,2))  # Create an array filled with random values\n",
        "print(e)                     # Might print \"[[ 0.91940167  0.08143941]\n",
        "                             #               [ 0.68744134  0.87236687]]\"\n"
      ],
      "execution_count": 0,
      "outputs": []
    },
    {
      "cell_type": "markdown",
      "metadata": {
        "id": "_ahyYyHk0ftt",
        "colab_type": "text"
      },
      "source": [
        "## Tipos de Datos de Numpy"
      ]
    },
    {
      "cell_type": "code",
      "metadata": {
        "id": "552sYIi00irO",
        "colab_type": "code",
        "colab": {}
      },
      "source": [
        "x = np.array([1, 2])   # Let numpy choose the datatype\n",
        "print(x.dtype)         # Prints \"int64\"\n",
        "\n",
        "x = np.array([1.0, 2.0])   # Let numpy choose the datatype\n",
        "print(x.dtype)             # Prints \"float64\"\n",
        "\n",
        "x = np.array([1, 2], dtype=np.int64)   # Force a particular datatype\n",
        "print(x.dtype)                         # Prints \"int64\""
      ],
      "execution_count": 0,
      "outputs": []
    },
    {
      "cell_type": "markdown",
      "metadata": {
        "id": "XWPJkRqn0xwJ",
        "colab_type": "text"
      },
      "source": [
        "## Operaciones matematicas usando las funciones de Numpy"
      ]
    },
    {
      "cell_type": "code",
      "metadata": {
        "id": "mElxE4oS03Fg",
        "colab_type": "code",
        "colab": {}
      },
      "source": [
        "import numpy as np\n",
        "\n",
        "x = np.array([[1,2],[3,4]], dtype=np.float64)\n",
        "y = np.array([[5,6],[7,8]], dtype=np.float64)\n",
        "\n",
        "# Elementwise sum; both produce the array\n",
        "# [[ 6.0  8.0]\n",
        "#  [10.0 12.0]]\n",
        "print(x + y)\n",
        "print(np.add(x, y))\n",
        "\n",
        "# Elementwise difference; both produce the array\n",
        "# [[-4.0 -4.0]\n",
        "#  [-4.0 -4.0]]\n",
        "print(x - y)\n",
        "print(np.subtract(x, y))\n",
        "\n",
        "# Elementwise product; both produce the array\n",
        "# [[ 5.0 12.0]\n",
        "#  [21.0 32.0]]\n",
        "print(x * y)\n",
        "print(np.multiply(x, y))\n",
        "\n",
        "# Elementwise division; both produce the array\n",
        "# [[ 0.2         0.33333333]\n",
        "#  [ 0.42857143  0.5       ]]\n",
        "print(x / y)\n",
        "print(np.divide(x, y))\n",
        "\n",
        "# Elementwise square root; produces the array\n",
        "# [[ 1.          1.41421356]\n",
        "#  [ 1.73205081  2.        ]]\n",
        "print(np.sqrt(x))\n"
      ],
      "execution_count": 0,
      "outputs": []
    },
    {
      "cell_type": "markdown",
      "metadata": {
        "id": "4MnxduKO0_lL",
        "colab_type": "text"
      },
      "source": [
        "#Operaciones especiales"
      ]
    },
    {
      "cell_type": "code",
      "metadata": {
        "id": "Pskk-zPd1DQp",
        "colab_type": "code",
        "colab": {}
      },
      "source": [
        "import numpy as np\n",
        "\n",
        "x = np.array([[1,2],[3,4]])\n",
        "y = np.array([[5,6],[7,8]])\n",
        "\n",
        "v = np.array([9,10])\n",
        "w = np.array([11, 12])\n",
        "\n",
        "# Inner product of vectors; both produce 219\n",
        "print(v.dot(w))\n",
        "print(np.dot(v, w))\n",
        "\n",
        "# Matrix / vector product; both produce the rank 1 array [29 67]\n",
        "print(x.dot(v))\n",
        "print(np.dot(x, v))\n",
        "\n",
        "# Matrix / matrix product; both produce the rank 2 array\n",
        "# [[19 22]\n",
        "#  [43 50]]\n",
        "print(x.dot(y))\n",
        "print(np.dot(x, y))\n",
        "\n"
      ],
      "execution_count": 0,
      "outputs": []
    },
    {
      "cell_type": "code",
      "metadata": {
        "id": "jFTkwcJi1XFk",
        "colab_type": "code",
        "colab": {}
      },
      "source": [
        "import numpy as np\n",
        "\n",
        "x = np.array([[1,2],[3,4]])\n",
        "\n",
        "print(np.sum(x))  # Compute sum of all elements; prints \"10\"\n",
        "print(np.sum(x, axis=0))  # Compute sum of each column; prints \"[4 6]\"\n",
        "print(np.sum(x, axis=1))  # Compute sum of each row; prints \"[3 7]\"\n"
      ],
      "execution_count": 0,
      "outputs": []
    }
  ]
}